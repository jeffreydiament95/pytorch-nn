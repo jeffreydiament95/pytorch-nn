{
 "cells": [
  {
   "cell_type": "code",
   "execution_count": 2,
   "metadata": {},
   "outputs": [],
   "source": [
    "import torch\n",
    "import torchvision\n",
    "import torchvision.transforms as transforms\n",
    "import matplotlib.pyplot as plt\n",
    "import numpy as np\n",
    "import random"
   ]
  },
  {
   "cell_type": "code",
   "execution_count": 53,
   "metadata": {},
   "outputs": [],
   "source": [
    "# Load the train dataset for mean calculation\n",
    "train_dataset = torchvision.datasets.MNIST(root='./data', train=True, download=True, transform=transforms.ToTensor())"
   ]
  },
  {
   "cell_type": "code",
   "execution_count": 57,
   "metadata": {},
   "outputs": [
    {
     "data": {
      "text/plain": [
       "(tensor(0.1307), tensor(0.3081))"
      ]
     },
     "execution_count": 57,
     "metadata": {},
     "output_type": "execute_result"
    }
   ],
   "source": [
    "# compute mean and std of the train dataset\n",
    "mean = train_dataset.data.float().mean() / 255\n",
    "std = train_dataset.data.float().std() / 255\n",
    "\n",
    "mean, std"
   ]
  },
  {
   "cell_type": "code",
   "execution_count": 55,
   "metadata": {},
   "outputs": [],
   "source": [
    "# define transformation to be applied to the images\n",
    "transform = transforms.Compose([\n",
    "    transforms.ToTensor(),\n",
    "    transforms.Normalize(mean=(mean,), std=(std,))\n",
    "])\n",
    "\n",
    "# Load the train and test datasets with normalization. these normalizations are applied to the images when they are loaded\n",
    "train_dataset = torchvision.datasets.MNIST(root='./data', train=True, download=True, transform=transform)\n",
    "test_dataset = torchvision.datasets.MNIST(root='./data', train=False, download=True, transform=transform)\n"
   ]
  },
  {
   "cell_type": "code",
   "execution_count": 64,
   "metadata": {},
   "outputs": [
    {
     "data": {
      "text/plain": [
       "(tensor(-5.6966e-08), tensor(1.0000))"
      ]
     },
     "execution_count": 64,
     "metadata": {},
     "output_type": "execute_result"
    }
   ],
   "source": [
    "# Compute the mean and standard deviation of the normalized dataset as a sanity check\n",
    "train_loader = torch.utils.data.DataLoader(train_dataset, batch_size=len(train_dataset), shuffle=False)\n",
    "data = next(iter(train_loader))\n",
    "\n",
    "# data[0] is the tensor containing all the images\n",
    "# data[1] is the tensor containing all the labels\n",
    "mean = data[0].mean()\n",
    "std = data[0].std()\n",
    "\n",
    "mean, std"
   ]
  },
  {
   "cell_type": "code",
   "execution_count": 96,
   "metadata": {},
   "outputs": [
    {
     "data": {
      "image/png": "[encoded data removed]",
      "text/plain": [
       "<Figure size 600x600 with 9 Axes>"
      ]
     },
     "metadata": {},
     "output_type": "display_data"
    }
   ],
   "source": [
    "# Create a DataLoader to load the data in batches\n",
    "test_loader = torch.utils.data.DataLoader(test_dataset, batch_size=9, shuffle=True)\n",
    "\n",
    "# Get a batch of images from the DataLoader\n",
    "images, labels = next(iter(test_loader))\n",
    "\n",
    "# Create a grid of images and display them\n",
    "fig, axs = plt.subplots(3, 3, figsize=(6, 6))\n",
    "axs = axs.flatten()\n",
    "\n",
    "for i, image in enumerate(images):\n",
    "    # Convert the tensor image to a numpy array and transpose it\n",
    "    image = np.transpose(image.numpy(), (1, 2, 0))\n",
    "\n",
    "    # Display the image on the corresponding subplot\n",
    "    axs[i].imshow(image[:, :, 0], cmap='gray')\n",
    "    axs[i].axis('off')\n",
    "\n",
    "# Show the plot\n",
    "plt.show()"
   ]
  },
  {
   "cell_type": "code",
   "execution_count": 97,
   "metadata": {},
   "outputs": [],
   "source": [
    "batch_size = 64\n",
    "\n",
    "train_loader = torch.utils.data.DataLoader(train_dataset, batch_size=batch_size, shuffle=False)\n",
    "test_loader = torch.utils.data.DataLoader(train_dataset, batch_size=batch_size, shuffle=False)"
   ]
  },
  {
   "cell_type": "code",
   "execution_count": 99,
   "metadata": {},
   "outputs": [
    {
     "name": "stdout",
     "output_type": "stream",
     "text": [
      "[1,   100] loss: 1.089\n",
      "[1,   200] loss: 0.423\n",
      "[1,   300] loss: 0.333\n",
      "[1,   400] loss: 0.255\n",
      "[1,   500] loss: 0.251\n",
      "[1,   600] loss: 0.220\n",
      "[1,   700] loss: 0.217\n",
      "[1,   800] loss: 0.204\n",
      "[1,   900] loss: 0.163\n",
      "[2,   100] loss: 0.138\n",
      "[2,   200] loss: 0.151\n",
      "[2,   300] loss: 0.135\n",
      "[2,   400] loss: 0.125\n",
      "[2,   500] loss: 0.129\n",
      "[2,   600] loss: 0.126\n",
      "[2,   700] loss: 0.124\n",
      "[2,   800] loss: 0.125\n",
      "[2,   900] loss: 0.100\n",
      "[3,   100] loss: 0.086\n",
      "[3,   200] loss: 0.099\n",
      "[3,   300] loss: 0.086\n",
      "[3,   400] loss: 0.083\n",
      "[3,   500] loss: 0.083\n",
      "[3,   600] loss: 0.086\n",
      "[3,   700] loss: 0.086\n",
      "[3,   800] loss: 0.090\n",
      "[3,   900] loss: 0.070\n",
      "[4,   100] loss: 0.061\n",
      "[4,   200] loss: 0.067\n",
      "[4,   300] loss: 0.063\n",
      "[4,   400] loss: 0.057\n",
      "[4,   500] loss: 0.059\n",
      "[4,   600] loss: 0.063\n",
      "[4,   700] loss: 0.064\n",
      "[4,   800] loss: 0.065\n",
      "[4,   900] loss: 0.052\n",
      "[5,   100] loss: 0.044\n",
      "[5,   200] loss: 0.049\n",
      "[5,   300] loss: 0.045\n",
      "[5,   400] loss: 0.045\n",
      "[5,   500] loss: 0.046\n",
      "[5,   600] loss: 0.047\n",
      "[5,   700] loss: 0.046\n",
      "[5,   800] loss: 0.045\n",
      "[5,   900] loss: 0.038\n",
      "Accuracy of the network on the 10000 test images: 98 %\n"
     ]
    }
   ],
   "source": [
    "import torch.nn as nn\n",
    "import torch.optim as optim\n",
    "\n",
    "# Define the neural network architecture\n",
    "class Net(nn.Module):\n",
    "    def __init__(self):\n",
    "        super(Net, self).__init__()\n",
    "        self.fc1 = nn.Linear(784, 128)\n",
    "        self.fc2 = nn.Linear(128, 64)\n",
    "        self.fc3 = nn.Linear(64, 10)\n",
    "\n",
    "    def forward(self, x):\n",
    "        x = x.view(-1, 784)\n",
    "        x = nn.functional.relu(self.fc1(x))\n",
    "        x = nn.functional.relu(self.fc2(x))\n",
    "        x = self.fc3(x)\n",
    "        return x\n",
    "\n",
    "# Initialize the neural network and other training parameters\n",
    "net = Net()\n",
    "criterion = nn.CrossEntropyLoss()\n",
    "optimizer = optim.SGD(net.parameters(), lr=0.01, momentum=0.9)\n",
    "num_epochs = 5\n",
    "\n",
    "# Train the neural network\n",
    "for epoch in range(num_epochs):\n",
    "    running_loss = 0.0\n",
    "    for i, data in enumerate(train_loader, 0):\n",
    "        inputs, labels = data\n",
    "        optimizer.zero_grad()\n",
    "        outputs = net(inputs)\n",
    "        loss = criterion(outputs, labels)\n",
    "        loss.backward()\n",
    "        optimizer.step()\n",
    "        running_loss += loss.item()\n",
    "        if i % 100 == 99:\n",
    "            print('[%d, %5d] loss: %.3f' % (epoch + 1, i + 1, running_loss / 100))\n",
    "            running_loss = 0.0\n",
    "\n",
    "# Evaluate the neural network on the test data\n",
    "correct = 0\n",
    "total = 0\n",
    "with torch.no_grad():\n",
    "    for data in test_loader:\n",
    "        images, labels = data\n",
    "        outputs = net(images)\n",
    "        _, predicted = torch.max(outputs.data, 1)\n",
    "        total += labels.size(0)\n",
    "        correct += (predicted == labels).sum().item()\n",
    "\n",
    "print('Accuracy of the network on the 10000 test images: %d %%' % (100 * correct / total))\n"
   ]
  },
  {
   "cell_type": "code",
   "execution_count": 8,
   "metadata": {},
   "outputs": [
    {
     "data": {
      "text/plain": [
       "tensor([0.0010, 0.0010, 0.0010, 0.0010, 0.0010, 0.0010, 0.0010, 0.0010, 0.0010,\n",
       "        0.0010, 0.0010, 0.0011, 0.0011, 0.0011, 0.0011, 0.0011, 0.0011, 0.0011,\n",
       "        0.0011, 0.0011, 0.0011, 0.0011, 0.0011, 0.0011, 0.0011, 0.0011, 0.0011,\n",
       "        0.0011, 0.0011, 0.0011, 0.0011, 0.0012, 0.0012, 0.0012, 0.0012, 0.0012,\n",
       "        0.0012, 0.0012, 0.0012, 0.0012, 0.0012, 0.0012, 0.0012, 0.0012, 0.0012,\n",
       "        0.0012, 0.0012, 0.0012, 0.0012, 0.0013, 0.0013, 0.0013, 0.0013, 0.0013,\n",
       "        0.0013, 0.0013, 0.0013, 0.0013, 0.0013, 0.0013, 0.0013, 0.0013, 0.0013,\n",
       "        0.0013, 0.0013, 0.0013, 0.0014, 0.0014, 0.0014, 0.0014, 0.0014, 0.0014,\n",
       "        0.0014, 0.0014, 0.0014, 0.0014, 0.0014, 0.0014, 0.0014, 0.0014, 0.0014,\n",
       "        0.0015, 0.0015, 0.0015, 0.0015, 0.0015, 0.0015, 0.0015, 0.0015, 0.0015,\n",
       "        0.0015, 0.0015, 0.0015, 0.0015, 0.0015, 0.0015, 0.0016, 0.0016, 0.0016,\n",
       "        0.0016, 0.0016, 0.0016, 0.0016, 0.0016, 0.0016, 0.0016, 0.0016, 0.0016,\n",
       "        0.0016, 0.0017, 0.0017, 0.0017, 0.0017, 0.0017, 0.0017, 0.0017, 0.0017,\n",
       "        0.0017, 0.0017, 0.0017, 0.0017, 0.0017, 0.0018, 0.0018, 0.0018, 0.0018,\n",
       "        0.0018, 0.0018, 0.0018, 0.0018, 0.0018, 0.0018, 0.0018, 0.0018, 0.0019,\n",
       "        0.0019, 0.0019, 0.0019, 0.0019, 0.0019, 0.0019, 0.0019, 0.0019, 0.0019,\n",
       "        0.0019, 0.0020, 0.0020, 0.0020, 0.0020, 0.0020, 0.0020, 0.0020, 0.0020,\n",
       "        0.0020, 0.0020, 0.0020, 0.0021, 0.0021, 0.0021, 0.0021, 0.0021, 0.0021,\n",
       "        0.0021, 0.0021, 0.0021, 0.0021, 0.0021, 0.0022, 0.0022, 0.0022, 0.0022,\n",
       "        0.0022, 0.0022, 0.0022, 0.0022, 0.0022, 0.0023, 0.0023, 0.0023, 0.0023,\n",
       "        0.0023, 0.0023, 0.0023, 0.0023, 0.0023, 0.0023, 0.0024, 0.0024, 0.0024,\n",
       "        0.0024, 0.0024, 0.0024, 0.0024, 0.0024, 0.0024, 0.0025, 0.0025, 0.0025,\n",
       "        0.0025, 0.0025, 0.0025, 0.0025, 0.0025, 0.0025, 0.0026, 0.0026, 0.0026,\n",
       "        0.0026, 0.0026, 0.0026, 0.0026, 0.0026, 0.0027, 0.0027, 0.0027, 0.0027,\n",
       "        0.0027, 0.0027, 0.0027, 0.0027, 0.0028, 0.0028, 0.0028, 0.0028, 0.0028,\n",
       "        0.0028, 0.0028, 0.0028, 0.0029, 0.0029, 0.0029, 0.0029, 0.0029, 0.0029,\n",
       "        0.0029, 0.0030, 0.0030, 0.0030, 0.0030, 0.0030, 0.0030, 0.0030, 0.0031,\n",
       "        0.0031, 0.0031, 0.0031, 0.0031, 0.0031, 0.0031, 0.0032, 0.0032, 0.0032,\n",
       "        0.0032, 0.0032, 0.0032, 0.0032, 0.0033, 0.0033, 0.0033, 0.0033, 0.0033,\n",
       "        0.0033, 0.0033, 0.0034, 0.0034, 0.0034, 0.0034, 0.0034, 0.0034, 0.0035,\n",
       "        0.0035, 0.0035, 0.0035, 0.0035, 0.0035, 0.0036, 0.0036, 0.0036, 0.0036,\n",
       "        0.0036, 0.0036, 0.0037, 0.0037, 0.0037, 0.0037, 0.0037, 0.0037, 0.0038,\n",
       "        0.0038, 0.0038, 0.0038, 0.0038, 0.0038, 0.0039, 0.0039, 0.0039, 0.0039,\n",
       "        0.0039, 0.0039, 0.0040, 0.0040, 0.0040, 0.0040, 0.0040, 0.0041, 0.0041,\n",
       "        0.0041, 0.0041, 0.0041, 0.0042, 0.0042, 0.0042, 0.0042, 0.0042, 0.0043,\n",
       "        0.0043, 0.0043, 0.0043, 0.0043, 0.0044, 0.0044, 0.0044, 0.0044, 0.0044,\n",
       "        0.0045, 0.0045, 0.0045, 0.0045, 0.0045, 0.0046, 0.0046, 0.0046, 0.0046,\n",
       "        0.0046, 0.0047, 0.0047, 0.0047, 0.0047, 0.0047, 0.0048, 0.0048, 0.0048,\n",
       "        0.0048, 0.0049, 0.0049, 0.0049, 0.0049, 0.0050, 0.0050, 0.0050, 0.0050,\n",
       "        0.0050, 0.0051, 0.0051, 0.0051, 0.0051, 0.0052, 0.0052, 0.0052, 0.0052,\n",
       "        0.0053, 0.0053, 0.0053, 0.0053, 0.0054, 0.0054, 0.0054, 0.0054, 0.0055,\n",
       "        0.0055, 0.0055, 0.0055, 0.0056, 0.0056, 0.0056, 0.0056, 0.0057, 0.0057,\n",
       "        0.0057, 0.0057, 0.0058, 0.0058, 0.0058, 0.0058, 0.0059, 0.0059, 0.0059,\n",
       "        0.0060, 0.0060, 0.0060, 0.0060, 0.0061, 0.0061, 0.0061, 0.0061, 0.0062,\n",
       "        0.0062, 0.0062, 0.0063, 0.0063, 0.0063, 0.0064, 0.0064, 0.0064, 0.0064,\n",
       "        0.0065, 0.0065, 0.0065, 0.0066, 0.0066, 0.0066, 0.0067, 0.0067, 0.0067,\n",
       "        0.0067, 0.0068, 0.0068, 0.0068, 0.0069, 0.0069, 0.0069, 0.0070, 0.0070,\n",
       "        0.0070, 0.0071, 0.0071, 0.0071, 0.0072, 0.0072, 0.0072, 0.0073, 0.0073,\n",
       "        0.0073, 0.0074, 0.0074, 0.0074, 0.0075, 0.0075, 0.0075, 0.0076, 0.0076,\n",
       "        0.0076, 0.0077, 0.0077, 0.0077, 0.0078, 0.0078, 0.0079, 0.0079, 0.0079,\n",
       "        0.0080, 0.0080, 0.0080, 0.0081, 0.0081, 0.0081, 0.0082, 0.0082, 0.0083,\n",
       "        0.0083, 0.0083, 0.0084, 0.0084, 0.0085, 0.0085, 0.0085, 0.0086, 0.0086,\n",
       "        0.0086, 0.0087, 0.0087, 0.0088, 0.0088, 0.0089, 0.0089, 0.0089, 0.0090,\n",
       "        0.0090, 0.0091, 0.0091, 0.0091, 0.0092, 0.0092, 0.0093, 0.0093, 0.0094,\n",
       "        0.0094, 0.0094, 0.0095, 0.0095, 0.0096, 0.0096, 0.0097, 0.0097, 0.0097,\n",
       "        0.0098, 0.0098, 0.0099, 0.0099, 0.0100, 0.0100, 0.0101, 0.0101, 0.0102,\n",
       "        0.0102, 0.0103, 0.0103, 0.0104, 0.0104, 0.0104, 0.0105, 0.0105, 0.0106,\n",
       "        0.0106, 0.0107, 0.0107, 0.0108, 0.0108, 0.0109, 0.0109, 0.0110, 0.0110,\n",
       "        0.0111, 0.0111, 0.0112, 0.0112, 0.0113, 0.0114, 0.0114, 0.0115, 0.0115,\n",
       "        0.0116, 0.0116, 0.0117, 0.0117, 0.0118, 0.0118, 0.0119, 0.0119, 0.0120,\n",
       "        0.0121, 0.0121, 0.0122, 0.0122, 0.0123, 0.0123, 0.0124, 0.0124, 0.0125,\n",
       "        0.0126, 0.0126, 0.0127, 0.0127, 0.0128, 0.0129, 0.0129, 0.0130, 0.0130,\n",
       "        0.0131, 0.0132, 0.0132, 0.0133, 0.0133, 0.0134, 0.0135, 0.0135, 0.0136,\n",
       "        0.0137, 0.0137, 0.0138, 0.0138, 0.0139, 0.0140, 0.0140, 0.0141, 0.0142,\n",
       "        0.0142, 0.0143, 0.0144, 0.0144, 0.0145, 0.0146, 0.0146, 0.0147, 0.0148,\n",
       "        0.0148, 0.0149, 0.0150, 0.0150, 0.0151, 0.0152, 0.0152, 0.0153, 0.0154,\n",
       "        0.0155, 0.0155, 0.0156, 0.0157, 0.0157, 0.0158, 0.0159, 0.0160, 0.0160,\n",
       "        0.0161, 0.0162, 0.0163, 0.0163, 0.0164, 0.0165, 0.0166, 0.0166, 0.0167,\n",
       "        0.0168, 0.0169, 0.0170, 0.0170, 0.0171, 0.0172, 0.0173, 0.0173, 0.0174,\n",
       "        0.0175, 0.0176, 0.0177, 0.0178, 0.0178, 0.0179, 0.0180, 0.0181, 0.0182,\n",
       "        0.0182, 0.0183, 0.0184, 0.0185, 0.0186, 0.0187, 0.0188, 0.0188, 0.0189,\n",
       "        0.0190, 0.0191, 0.0192, 0.0193, 0.0194, 0.0195, 0.0196, 0.0196, 0.0197,\n",
       "        0.0198, 0.0199, 0.0200, 0.0201, 0.0202, 0.0203, 0.0204, 0.0205, 0.0206,\n",
       "        0.0207, 0.0208, 0.0209, 0.0210, 0.0211, 0.0212, 0.0212, 0.0213, 0.0214,\n",
       "        0.0215, 0.0216, 0.0217, 0.0218, 0.0219, 0.0220, 0.0221, 0.0223, 0.0224,\n",
       "        0.0225, 0.0226, 0.0227, 0.0228, 0.0229, 0.0230, 0.0231, 0.0232, 0.0233,\n",
       "        0.0234, 0.0235, 0.0236, 0.0237, 0.0238, 0.0240, 0.0241, 0.0242, 0.0243,\n",
       "        0.0244, 0.0245, 0.0246, 0.0247, 0.0249, 0.0250, 0.0251, 0.0252, 0.0253,\n",
       "        0.0254, 0.0256, 0.0257, 0.0258, 0.0259, 0.0260, 0.0261, 0.0263, 0.0264,\n",
       "        0.0265, 0.0266, 0.0268, 0.0269, 0.0270, 0.0271, 0.0273, 0.0274, 0.0275,\n",
       "        0.0276, 0.0278, 0.0279, 0.0280, 0.0281, 0.0283, 0.0284, 0.0285, 0.0287,\n",
       "        0.0288, 0.0289, 0.0291, 0.0292, 0.0293, 0.0295, 0.0296, 0.0297, 0.0299,\n",
       "        0.0300, 0.0302, 0.0303, 0.0304, 0.0306, 0.0307, 0.0309, 0.0310, 0.0312,\n",
       "        0.0313, 0.0314, 0.0316, 0.0317, 0.0319, 0.0320, 0.0322, 0.0323, 0.0325,\n",
       "        0.0326, 0.0328, 0.0329, 0.0331, 0.0332, 0.0334, 0.0335, 0.0337, 0.0338,\n",
       "        0.0340, 0.0342, 0.0343, 0.0345, 0.0346, 0.0348, 0.0350, 0.0351, 0.0353,\n",
       "        0.0354, 0.0356, 0.0358, 0.0359, 0.0361, 0.0363, 0.0364, 0.0366, 0.0368,\n",
       "        0.0369, 0.0371, 0.0373, 0.0375, 0.0376, 0.0378, 0.0380, 0.0382, 0.0383,\n",
       "        0.0385, 0.0387, 0.0389, 0.0390, 0.0392, 0.0394, 0.0396, 0.0398, 0.0400,\n",
       "        0.0401, 0.0403, 0.0405, 0.0407, 0.0409, 0.0411, 0.0413, 0.0415, 0.0417,\n",
       "        0.0418, 0.0420, 0.0422, 0.0424, 0.0426, 0.0428, 0.0430, 0.0432, 0.0434,\n",
       "        0.0436, 0.0438, 0.0440, 0.0442, 0.0444, 0.0446, 0.0448, 0.0450, 0.0453,\n",
       "        0.0455, 0.0457, 0.0459, 0.0461, 0.0463, 0.0465, 0.0467, 0.0470, 0.0472,\n",
       "        0.0474, 0.0476, 0.0478, 0.0480, 0.0483, 0.0485, 0.0487, 0.0489, 0.0492,\n",
       "        0.0494, 0.0496, 0.0499, 0.0501, 0.0503, 0.0505, 0.0508, 0.0510, 0.0513,\n",
       "        0.0515, 0.0517, 0.0520, 0.0522, 0.0524, 0.0527, 0.0529, 0.0532, 0.0534,\n",
       "        0.0537, 0.0539, 0.0542, 0.0544, 0.0547, 0.0549, 0.0552, 0.0554, 0.0557,\n",
       "        0.0559, 0.0562, 0.0565, 0.0567, 0.0570, 0.0572, 0.0575, 0.0578, 0.0580,\n",
       "        0.0583, 0.0586, 0.0589, 0.0591, 0.0594, 0.0597, 0.0599, 0.0602, 0.0605,\n",
       "        0.0608, 0.0611, 0.0613, 0.0616, 0.0619, 0.0622, 0.0625, 0.0628, 0.0631,\n",
       "        0.0634, 0.0637, 0.0639, 0.0642, 0.0645, 0.0648, 0.0651, 0.0654, 0.0657,\n",
       "        0.0660, 0.0663, 0.0667, 0.0670, 0.0673, 0.0676, 0.0679, 0.0682, 0.0685,\n",
       "        0.0688, 0.0692, 0.0695, 0.0698, 0.0701, 0.0704, 0.0708, 0.0711, 0.0714,\n",
       "        0.0718, 0.0721, 0.0724, 0.0728, 0.0731, 0.0734, 0.0738, 0.0741, 0.0745,\n",
       "        0.0748, 0.0751, 0.0755, 0.0758, 0.0762, 0.0765, 0.0769, 0.0772, 0.0776,\n",
       "        0.0780, 0.0783, 0.0787, 0.0790, 0.0794, 0.0798, 0.0802, 0.0805, 0.0809,\n",
       "        0.0813, 0.0816, 0.0820, 0.0824, 0.0828, 0.0832, 0.0835, 0.0839, 0.0843,\n",
       "        0.0847, 0.0851, 0.0855, 0.0859, 0.0863, 0.0867, 0.0871, 0.0875, 0.0879,\n",
       "        0.0883, 0.0887, 0.0891, 0.0895, 0.0899, 0.0904, 0.0908, 0.0912, 0.0916,\n",
       "        0.0920, 0.0925, 0.0929, 0.0933, 0.0938, 0.0942, 0.0946, 0.0951, 0.0955,\n",
       "        0.0959, 0.0964, 0.0968, 0.0973, 0.0977, 0.0982, 0.0986, 0.0991, 0.0995,\n",
       "        0.1000])"
      ]
     },
     "execution_count": 8,
     "metadata": {},
     "output_type": "execute_result"
    }
   ],
   "source": [
    "lre = torch.linspace(-3, -1, 1000)\n",
    "lrs = 10 ** lre\n"
   ]
  }
 ],
 "metadata": {
  "kernelspec": {
   "display_name": "torchenv",
   "language": "python",
   "name": "python3"
  },
  "language_info": {
   "codemirror_mode": {
    "name": "ipython",
    "version": 3
   },
   "file_extension": ".py",
   "mimetype": "text/x-python",
   "name": "python",
   "nbconvert_exporter": "python",
   "pygments_lexer": "ipython3",
   "version": "3.11.3"
  },
  "orig_nbformat": 4
 },
 "nbformat": 4,
 "nbformat_minor": 2
}
